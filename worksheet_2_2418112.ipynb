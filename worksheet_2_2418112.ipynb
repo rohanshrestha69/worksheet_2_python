{
  "nbformat": 4,
  "nbformat_minor": 0,
  "metadata": {
    "colab": {
      "provenance": []
    },
    "kernelspec": {
      "name": "python3",
      "display_name": "Python 3"
    },
    "language_info": {
      "name": "python"
    }
  },
  "cells": [
    {
      "cell_type": "markdown",
      "source": [
        "## **Name: Rohan Shrestha**\n",
        "## **Uni Id: 2418112**\n",
        "\n"
      ],
      "metadata": {
        "id": "rmINoDvxHa6k"
      }
    },
    {
      "cell_type": "markdown",
      "source": [
        "# **3.1 Warming Up Exercises - Basic Inspection and Exploration:**"
      ],
      "metadata": {
        "id": "s02KfNuRVn00"
      }
    },
    {
      "cell_type": "markdown",
      "source": [
        "# **Problem 1 - Data Read, Write and Inspect:**\n",
        "Complete all following Task:\n",
        "\n",
        "• Dataset for the Task: \"bank.csv\"\n",
        "1. Load the provided dataset and import in pandas DataFrame.\n",
        "2. Check info of the DataFrame and identify following:\n",
        "\n",
        "(a) columns with dtypes=object\n",
        "\n",
        "(b) unique values of those columns.\n",
        "\n",
        "(c) check for the total number of null values in each column.\n",
        "\n",
        "3. Drop all the columns with dtypes object and store in new DataFrame, also write the DataFrame in\n",
        "”.csv” with name ”banknumericdata.csv”\n",
        "4. Read ”banknumericdata.csv” and Find the summary statistics."
      ],
      "metadata": {
        "id": "Q-dm9o1HVvAr"
      }
    },
    {
      "cell_type": "code",
      "execution_count": 7,
      "metadata": {
        "id": "EEkfkxXvQKzQ",
        "colab": {
          "base_uri": "https://localhost:8080/"
        },
        "outputId": "dd3e6d53-7189-4e5f-b57e-739464945dd2"
      },
      "outputs": [
        {
          "output_type": "stream",
          "name": "stdout",
          "text": [
            "Columns with dtype=object: Index(['job', 'marital', 'education', 'default', 'housing', 'loan', 'contact',\n",
            "       'month', 'poutcome', 'y'],\n",
            "      dtype='object')\n",
            "Unique values in column 'job':\n",
            "['management' 'technician' 'entrepreneur' 'blue-collar' 'unknown'\n",
            " 'retired' 'admin.' 'services' 'self-employed' 'unemployed' 'housemaid'\n",
            " 'student']\n",
            "Unique values in column 'marital':\n",
            "['married' 'single' 'divorced']\n",
            "Unique values in column 'education':\n",
            "['tertiary' 'secondary' 'unknown' 'primary']\n",
            "Unique values in column 'default':\n",
            "['no' 'yes']\n",
            "Unique values in column 'housing':\n",
            "['yes' 'no']\n",
            "Unique values in column 'loan':\n",
            "['no' 'yes']\n",
            "Unique values in column 'contact':\n",
            "['unknown' 'cellular' 'telephone']\n",
            "Unique values in column 'month':\n",
            "['may' 'jun' 'jul' 'aug' 'oct' 'nov' 'dec' 'jan' 'feb' 'mar' 'apr' 'sep']\n",
            "Unique values in column 'poutcome':\n",
            "['unknown' 'failure' 'other' 'success']\n",
            "Unique values in column 'y':\n",
            "['no' 'yes']\n",
            "Null values in each column:\n",
            "age          0\n",
            "job          0\n",
            "marital      0\n",
            "education    0\n",
            "default      0\n",
            "balance      0\n",
            "housing      0\n",
            "loan         0\n",
            "contact      0\n",
            "day          0\n",
            "month        0\n",
            "duration     0\n",
            "campaign     0\n",
            "pdays        0\n",
            "previous     0\n",
            "poutcome     0\n",
            "y            0\n",
            "dtype: int64\n",
            "                age        balance           day      duration      campaign  \\\n",
            "count  45211.000000   45211.000000  45211.000000  45211.000000  45211.000000   \n",
            "mean      40.936210    1362.272058     15.806419    258.163080      2.763841   \n",
            "std       10.618762    3044.765829      8.322476    257.527812      3.098021   \n",
            "min       18.000000   -8019.000000      1.000000      0.000000      1.000000   \n",
            "25%       33.000000      72.000000      8.000000    103.000000      1.000000   \n",
            "50%       39.000000     448.000000     16.000000    180.000000      2.000000   \n",
            "75%       48.000000    1428.000000     21.000000    319.000000      3.000000   \n",
            "max       95.000000  102127.000000     31.000000   4918.000000     63.000000   \n",
            "\n",
            "              pdays      previous  \n",
            "count  45211.000000  45211.000000  \n",
            "mean      40.197828      0.580323  \n",
            "std      100.128746      2.303441  \n",
            "min       -1.000000      0.000000  \n",
            "25%       -1.000000      0.000000  \n",
            "50%       -1.000000      0.000000  \n",
            "75%       -1.000000      0.000000  \n",
            "max      871.000000    275.000000  \n"
          ]
        }
      ],
      "source": [
        "import pandas as pd\n",
        "\n",
        "# 1. Load the dataset\n",
        "df = pd.read_csv(\"/content/drive/MyDrive/College Materials/Datasets Python/bank .csv\")\n",
        "\n",
        "# 2. Check info of the DataFrame and identify:\n",
        "# (a) Columns with dtypes=object\n",
        "object_columns = df.select_dtypes(include='object').columns\n",
        "print(\"Columns with dtype=object:\", object_columns)\n",
        "\n",
        "# (b) Unique values of those columns\n",
        "for col in object_columns:\n",
        "    print(f\"Unique values in column '{col}':\")\n",
        "    print(df[col].unique())\n",
        "\n",
        "# (c) Check for the total number of null values in each column\n",
        "print(\"Null values in each column:\")\n",
        "print(df.isnull().sum())\n",
        "\n",
        "# 3. Drop all the columns with dtypes=object and store in new DataFrame\n",
        "df_numeric = df.drop(columns=object_columns)\n",
        "\n",
        "# Save the DataFrame as 'banknumericdata.csv'\n",
        "df_numeric.to_csv('banknumericdata.csv', index=False)\n",
        "\n",
        "# 4. Read 'banknumericdata.csv' and find the summary statistics\n",
        "df_numeric = pd.read_csv('banknumericdata.csv')\n",
        "print(df_numeric.describe())  # Summary statistics\n"
      ]
    },
    {
      "cell_type": "code",
      "source": [
        "from google.colab import drive\n",
        "drive.mount('/content/drive')"
      ],
      "metadata": {
        "colab": {
          "base_uri": "https://localhost:8080/"
        },
        "id": "BM994kZIEI-E",
        "outputId": "440ce200-f3c7-4206-8c81-a20a90e0c433"
      },
      "execution_count": 1,
      "outputs": [
        {
          "output_type": "stream",
          "name": "stdout",
          "text": [
            "Mounted at /content/drive\n"
          ]
        }
      ]
    },
    {
      "cell_type": "markdown",
      "source": [
        "# **Problem 2 - Data Imputations:**\n",
        "Complete all the following Task:\n",
        "\n",
        "• Dataset for the Task: \"medical_student.csv\"\n",
        "1. Load the provided dataset and import in pandas DataFrame.\n",
        "2. Check info of the DataFrame and identify column with missing (null) values.\n",
        "3. For the column with missing values fill the values using various techniques we discussed above. Try\n",
        "to explain why did you select the particular methods for particular column.\n",
        "4. Check for any duplicate values present in Dataset and do necessary to manage the duplicate items.\n",
        "{Hint: dataset.duplicated.sum()}"
      ],
      "metadata": {
        "id": "Bwwk1B1DVy73"
      }
    },
    {
      "cell_type": "code",
      "source": [
        "import pandas as pd\n",
        "\n",
        "# 1. Load the dataset and import it into a pandas DataFrame\n",
        "df_medical = pd.read_csv(\"/content/drive/MyDrive/College Materials/Datasets Python/medical_students_dataset.csv\")\n",
        "\n",
        "# 2. Check info of the DataFrame and identify columns with missing (null) values\n",
        "print(\"Dataset Information:\")\n",
        "print(df_medical.info())\n",
        "\n",
        "# Identify columns with missing values\n",
        "missing_values = df_medical.isnull().sum()\n",
        "print(\"\\nMissing values in each column:\")\n",
        "print(missing_values)\n",
        "\n",
        "# 3. Handle missing values by filling them with appropriate techniques\n",
        "# For each column, choose the imputation method based on the data type and distribution\n",
        "\n",
        "for col in df_medical.columns:\n",
        "    if df_medical[col].dtype == 'object':  # Categorical columns\n",
        "        # Fill missing values with the most frequent value (mode)\n",
        "        df_medical[col] = df_medical[col].fillna(df_medical[col].mode()[0])\n",
        "    else:  # Numerical columns\n",
        "        # If numerical, we will use the mean for imputation\n",
        "        df_medical[col] = df_medical[col].fillna(df_medical[col].mean())\n",
        "\n",
        "# Explanation:\n",
        "# - Categorical columns: Using the most frequent value (mode) is common as it reflects the most typical category.\n",
        "# - Numerical columns: Using the mean is a standard approach unless there are outliers, in which case, median could be better.\n",
        "\n",
        "# 4. Check for duplicate values and manage them\n",
        "duplicates = df_medical.duplicated().sum()\n",
        "print(f\"\\nNumber of duplicate rows: {duplicates}\")\n",
        "\n",
        "# Remove duplicates if any\n",
        "df_medical.drop_duplicates(inplace=True)\n",
        "\n",
        "# Verify if duplicates were removed\n",
        "print(f\"\\nNumber of duplicate rows after removal: {df_medical.duplicated().sum()}\")\n"
      ],
      "metadata": {
        "colab": {
          "base_uri": "https://localhost:8080/"
        },
        "id": "xifNEFkAQ1Or",
        "outputId": "cbd6b613-ca06-4bb2-9b2c-59ecf1f5bc05"
      },
      "execution_count": 8,
      "outputs": [
        {
          "output_type": "stream",
          "name": "stdout",
          "text": [
            "Dataset Information:\n",
            "<class 'pandas.core.frame.DataFrame'>\n",
            "RangeIndex: 200000 entries, 0 to 199999\n",
            "Data columns (total 13 columns):\n",
            " #   Column          Non-Null Count   Dtype  \n",
            "---  ------          --------------   -----  \n",
            " 0   Student ID      180000 non-null  float64\n",
            " 1   Age             180000 non-null  float64\n",
            " 2   Gender          180000 non-null  object \n",
            " 3   Height          180000 non-null  float64\n",
            " 4   Weight          180000 non-null  float64\n",
            " 5   Blood Type      180000 non-null  object \n",
            " 6   BMI             180000 non-null  float64\n",
            " 7   Temperature     180000 non-null  float64\n",
            " 8   Heart Rate      180000 non-null  float64\n",
            " 9   Blood Pressure  180000 non-null  float64\n",
            " 10  Cholesterol     180000 non-null  float64\n",
            " 11  Diabetes        180000 non-null  object \n",
            " 12  Smoking         180000 non-null  object \n",
            "dtypes: float64(9), object(4)\n",
            "memory usage: 19.8+ MB\n",
            "None\n",
            "\n",
            "Missing values in each column:\n",
            "Student ID        20000\n",
            "Age               20000\n",
            "Gender            20000\n",
            "Height            20000\n",
            "Weight            20000\n",
            "Blood Type        20000\n",
            "BMI               20000\n",
            "Temperature       20000\n",
            "Heart Rate        20000\n",
            "Blood Pressure    20000\n",
            "Cholesterol       20000\n",
            "Diabetes          20000\n",
            "Smoking           20000\n",
            "dtype: int64\n",
            "\n",
            "Number of duplicate rows: 12572\n",
            "\n",
            "Number of duplicate rows after removal: 0\n"
          ]
        }
      ]
    },
    {
      "cell_type": "markdown",
      "source": [
        "# **3.2 Exercises - Data Cleaning and Transformations with ”Titanic Dataset”:**\n",
        "\n",
        "# **Dataset Used: \"titanic.csv\"**"
      ],
      "metadata": {
        "id": "vHvR5kn7TbNV"
      }
    },
    {
      "cell_type": "markdown",
      "source": [
        "## **Problem - 1:**\n",
        "\n",
        "Create a DataFrame that is subsetted for the columns ’Name’, ’Pclass’, ’Sex’, ’Age’, ’Fare’, and ’Survived’. Retain only those rows where ’Pclass’ is equal to 1, representing first-class passengers. What is the mean, median, maximum value, and minimum value of the ’Fare’ column?"
      ],
      "metadata": {
        "id": "04PjwOrfTeUs"
      }
    },
    {
      "cell_type": "code",
      "source": [
        "import pandas as pd\n",
        "\n",
        "df_titanic = pd.read_csv('/content/drive/MyDrive/College Materials/Datasets Python/Titanic-Dataset.csv')\n",
        "\n",
        "df_first_class = df_titanic[['Name', 'Pclass', 'Sex', 'Age', 'Fare', 'Survived']]\n",
        "\n",
        "df_first_class = df_first_class[df_first_class['Pclass'] == 1]\n",
        "\n",
        "mean_fare = df_first_class['Fare'].mean()\n",
        "median_fare = df_first_class['Fare'].median()\n",
        "max_fare = df_first_class['Fare'].max()\n",
        "min_fare = df_first_class['Fare'].min()\n",
        "\n",
        "print(f\"Mean Fare: {mean_fare}\")\n",
        "print(f\"Median Fare: {median_fare}\")\n",
        "print(f\"Max Fare: {max_fare}\")\n",
        "print(f\"Min Fare: {min_fare}\")\n"
      ],
      "metadata": {
        "colab": {
          "base_uri": "https://localhost:8080/"
        },
        "id": "zJvMFF1hTVit",
        "outputId": "529724c6-028e-4882-8f05-3327c1515ac0"
      },
      "execution_count": 9,
      "outputs": [
        {
          "output_type": "stream",
          "name": "stdout",
          "text": [
            "Mean Fare: 84.1546875\n",
            "Median Fare: 60.287499999999994\n",
            "Max Fare: 512.3292\n",
            "Min Fare: 0.0\n"
          ]
        }
      ]
    },
    {
      "cell_type": "markdown",
      "source": [
        "## **Problem - 2:**\n",
        "\n",
        "How many null values are contained in the ’Age’ column in your subsetted DataFrame? Once you’ve found this out, drop them from your DataFrame."
      ],
      "metadata": {
        "id": "RYm-eL3cUEt8"
      }
    },
    {
      "cell_type": "code",
      "source": [
        "df_first_class = df_titanic[['Name', 'Pclass', 'Sex', 'Age', 'Fare', 'Survived']]\n",
        "\n",
        "df_first_class = df_first_class[df_first_class['Pclass'] == 1]\n",
        "\n",
        "missing_age = df_first_class['Age'].isnull().sum()\n",
        "print(f\"Number of missing values in 'Age' column: {missing_age}\")\n",
        "\n",
        "df_first_class_cleaned = df_first_class.dropna(subset=['Age'])\n",
        "\n",
        "missing_age_after_drop = df_first_class_cleaned['Age'].isnull().sum()\n",
        "print(f\"Number of missing values in 'Age' column after dropping: {missing_age_after_drop}\")\n"
      ],
      "metadata": {
        "colab": {
          "base_uri": "https://localhost:8080/"
        },
        "id": "sCXfa1jxUGO1",
        "outputId": "4ec5e623-2bfa-429b-eb16-ea1e548e778e"
      },
      "execution_count": 10,
      "outputs": [
        {
          "output_type": "stream",
          "name": "stdout",
          "text": [
            "Number of missing values in 'Age' column: 30\n",
            "Number of missing values in 'Age' column after dropping: 0\n"
          ]
        }
      ]
    },
    {
      "cell_type": "markdown",
      "source": [
        "## **Problem - 3:**\n",
        "\n",
        "The ’Embarked’ column in the Titanic dataset contains categorical data representing the ports of embarka-\n",
        "tion:\n",
        "\n",
        "• ’C’ for Cherbourg\n",
        "\n",
        "• ’Q’ for Queenstown\n",
        "\n",
        "• ’S’ for Southampton\n",
        "\n",
        "Task:\n",
        "\n",
        "1. Use one-hot encoding to convert the ’Embarked’ column into separate binary columns (’Embarked C’,\n",
        "’Embarked Q’, ’Embarked S’).\n",
        "2. Add these new columns to the original DataFrame.\n",
        "3. Drop the original ’Embarked’ column.\n",
        "4. Print the first few rows of the modified DataFrame to verify the changes."
      ],
      "metadata": {
        "id": "NypJ9NjvUbgY"
      }
    },
    {
      "cell_type": "code",
      "source": [
        "df_first_class = df_titanic[['Name', 'Pclass', 'Sex', 'Age', 'Fare', 'Survived', 'Embarked']]\n",
        "\n",
        "df_first_class = df_first_class[df_first_class['Pclass'] == 1]\n",
        "\n",
        "df_encoded = pd.get_dummies(df_first_class, columns=['Embarked'], prefix='Embarked')\n",
        "\n",
        "df_encoded.head()\n"
      ],
      "metadata": {
        "colab": {
          "base_uri": "https://localhost:8080/",
          "height": 206
        },
        "id": "NfIuLFOEUIYl",
        "outputId": "ee6d4365-2677-45c2-bc37-15447e3b3fb1"
      },
      "execution_count": 11,
      "outputs": [
        {
          "output_type": "execute_result",
          "data": {
            "text/plain": [
              "                                                 Name  Pclass     Sex   Age  \\\n",
              "1   Cumings, Mrs. John Bradley (Florence Briggs Th...       1  female  38.0   \n",
              "3        Futrelle, Mrs. Jacques Heath (Lily May Peel)       1  female  35.0   \n",
              "6                             McCarthy, Mr. Timothy J       1    male  54.0   \n",
              "11                           Bonnell, Miss. Elizabeth       1  female  58.0   \n",
              "23                       Sloper, Mr. William Thompson       1    male  28.0   \n",
              "\n",
              "       Fare  Survived  Embarked_C  Embarked_Q  Embarked_S  \n",
              "1   71.2833         1        True       False       False  \n",
              "3   53.1000         1       False       False        True  \n",
              "6   51.8625         0       False       False        True  \n",
              "11  26.5500         1       False       False        True  \n",
              "23  35.5000         1       False       False        True  "
            ],
            "text/html": [
              "\n",
              "  <div id=\"df-32082849-2650-47fe-8368-cbf58f525e45\" class=\"colab-df-container\">\n",
              "    <div>\n",
              "<style scoped>\n",
              "    .dataframe tbody tr th:only-of-type {\n",
              "        vertical-align: middle;\n",
              "    }\n",
              "\n",
              "    .dataframe tbody tr th {\n",
              "        vertical-align: top;\n",
              "    }\n",
              "\n",
              "    .dataframe thead th {\n",
              "        text-align: right;\n",
              "    }\n",
              "</style>\n",
              "<table border=\"1\" class=\"dataframe\">\n",
              "  <thead>\n",
              "    <tr style=\"text-align: right;\">\n",
              "      <th></th>\n",
              "      <th>Name</th>\n",
              "      <th>Pclass</th>\n",
              "      <th>Sex</th>\n",
              "      <th>Age</th>\n",
              "      <th>Fare</th>\n",
              "      <th>Survived</th>\n",
              "      <th>Embarked_C</th>\n",
              "      <th>Embarked_Q</th>\n",
              "      <th>Embarked_S</th>\n",
              "    </tr>\n",
              "  </thead>\n",
              "  <tbody>\n",
              "    <tr>\n",
              "      <th>1</th>\n",
              "      <td>Cumings, Mrs. John Bradley (Florence Briggs Th...</td>\n",
              "      <td>1</td>\n",
              "      <td>female</td>\n",
              "      <td>38.0</td>\n",
              "      <td>71.2833</td>\n",
              "      <td>1</td>\n",
              "      <td>True</td>\n",
              "      <td>False</td>\n",
              "      <td>False</td>\n",
              "    </tr>\n",
              "    <tr>\n",
              "      <th>3</th>\n",
              "      <td>Futrelle, Mrs. Jacques Heath (Lily May Peel)</td>\n",
              "      <td>1</td>\n",
              "      <td>female</td>\n",
              "      <td>35.0</td>\n",
              "      <td>53.1000</td>\n",
              "      <td>1</td>\n",
              "      <td>False</td>\n",
              "      <td>False</td>\n",
              "      <td>True</td>\n",
              "    </tr>\n",
              "    <tr>\n",
              "      <th>6</th>\n",
              "      <td>McCarthy, Mr. Timothy J</td>\n",
              "      <td>1</td>\n",
              "      <td>male</td>\n",
              "      <td>54.0</td>\n",
              "      <td>51.8625</td>\n",
              "      <td>0</td>\n",
              "      <td>False</td>\n",
              "      <td>False</td>\n",
              "      <td>True</td>\n",
              "    </tr>\n",
              "    <tr>\n",
              "      <th>11</th>\n",
              "      <td>Bonnell, Miss. Elizabeth</td>\n",
              "      <td>1</td>\n",
              "      <td>female</td>\n",
              "      <td>58.0</td>\n",
              "      <td>26.5500</td>\n",
              "      <td>1</td>\n",
              "      <td>False</td>\n",
              "      <td>False</td>\n",
              "      <td>True</td>\n",
              "    </tr>\n",
              "    <tr>\n",
              "      <th>23</th>\n",
              "      <td>Sloper, Mr. William Thompson</td>\n",
              "      <td>1</td>\n",
              "      <td>male</td>\n",
              "      <td>28.0</td>\n",
              "      <td>35.5000</td>\n",
              "      <td>1</td>\n",
              "      <td>False</td>\n",
              "      <td>False</td>\n",
              "      <td>True</td>\n",
              "    </tr>\n",
              "  </tbody>\n",
              "</table>\n",
              "</div>\n",
              "    <div class=\"colab-df-buttons\">\n",
              "\n",
              "  <div class=\"colab-df-container\">\n",
              "    <button class=\"colab-df-convert\" onclick=\"convertToInteractive('df-32082849-2650-47fe-8368-cbf58f525e45')\"\n",
              "            title=\"Convert this dataframe to an interactive table.\"\n",
              "            style=\"display:none;\">\n",
              "\n",
              "  <svg xmlns=\"http://www.w3.org/2000/svg\" height=\"24px\" viewBox=\"0 -960 960 960\">\n",
              "    <path d=\"M120-120v-720h720v720H120Zm60-500h600v-160H180v160Zm220 220h160v-160H400v160Zm0 220h160v-160H400v160ZM180-400h160v-160H180v160Zm440 0h160v-160H620v160ZM180-180h160v-160H180v160Zm440 0h160v-160H620v160Z\"/>\n",
              "  </svg>\n",
              "    </button>\n",
              "\n",
              "  <style>\n",
              "    .colab-df-container {\n",
              "      display:flex;\n",
              "      gap: 12px;\n",
              "    }\n",
              "\n",
              "    .colab-df-convert {\n",
              "      background-color: #E8F0FE;\n",
              "      border: none;\n",
              "      border-radius: 50%;\n",
              "      cursor: pointer;\n",
              "      display: none;\n",
              "      fill: #1967D2;\n",
              "      height: 32px;\n",
              "      padding: 0 0 0 0;\n",
              "      width: 32px;\n",
              "    }\n",
              "\n",
              "    .colab-df-convert:hover {\n",
              "      background-color: #E2EBFA;\n",
              "      box-shadow: 0px 1px 2px rgba(60, 64, 67, 0.3), 0px 1px 3px 1px rgba(60, 64, 67, 0.15);\n",
              "      fill: #174EA6;\n",
              "    }\n",
              "\n",
              "    .colab-df-buttons div {\n",
              "      margin-bottom: 4px;\n",
              "    }\n",
              "\n",
              "    [theme=dark] .colab-df-convert {\n",
              "      background-color: #3B4455;\n",
              "      fill: #D2E3FC;\n",
              "    }\n",
              "\n",
              "    [theme=dark] .colab-df-convert:hover {\n",
              "      background-color: #434B5C;\n",
              "      box-shadow: 0px 1px 3px 1px rgba(0, 0, 0, 0.15);\n",
              "      filter: drop-shadow(0px 1px 2px rgba(0, 0, 0, 0.3));\n",
              "      fill: #FFFFFF;\n",
              "    }\n",
              "  </style>\n",
              "\n",
              "    <script>\n",
              "      const buttonEl =\n",
              "        document.querySelector('#df-32082849-2650-47fe-8368-cbf58f525e45 button.colab-df-convert');\n",
              "      buttonEl.style.display =\n",
              "        google.colab.kernel.accessAllowed ? 'block' : 'none';\n",
              "\n",
              "      async function convertToInteractive(key) {\n",
              "        const element = document.querySelector('#df-32082849-2650-47fe-8368-cbf58f525e45');\n",
              "        const dataTable =\n",
              "          await google.colab.kernel.invokeFunction('convertToInteractive',\n",
              "                                                    [key], {});\n",
              "        if (!dataTable) return;\n",
              "\n",
              "        const docLinkHtml = 'Like what you see? Visit the ' +\n",
              "          '<a target=\"_blank\" href=https://colab.research.google.com/notebooks/data_table.ipynb>data table notebook</a>'\n",
              "          + ' to learn more about interactive tables.';\n",
              "        element.innerHTML = '';\n",
              "        dataTable['output_type'] = 'display_data';\n",
              "        await google.colab.output.renderOutput(dataTable, element);\n",
              "        const docLink = document.createElement('div');\n",
              "        docLink.innerHTML = docLinkHtml;\n",
              "        element.appendChild(docLink);\n",
              "      }\n",
              "    </script>\n",
              "  </div>\n",
              "\n",
              "\n",
              "<div id=\"df-413ff9b0-f362-4d9a-8286-fb30620992de\">\n",
              "  <button class=\"colab-df-quickchart\" onclick=\"quickchart('df-413ff9b0-f362-4d9a-8286-fb30620992de')\"\n",
              "            title=\"Suggest charts\"\n",
              "            style=\"display:none;\">\n",
              "\n",
              "<svg xmlns=\"http://www.w3.org/2000/svg\" height=\"24px\"viewBox=\"0 0 24 24\"\n",
              "     width=\"24px\">\n",
              "    <g>\n",
              "        <path d=\"M19 3H5c-1.1 0-2 .9-2 2v14c0 1.1.9 2 2 2h14c1.1 0 2-.9 2-2V5c0-1.1-.9-2-2-2zM9 17H7v-7h2v7zm4 0h-2V7h2v10zm4 0h-2v-4h2v4z\"/>\n",
              "    </g>\n",
              "</svg>\n",
              "  </button>\n",
              "\n",
              "<style>\n",
              "  .colab-df-quickchart {\n",
              "      --bg-color: #E8F0FE;\n",
              "      --fill-color: #1967D2;\n",
              "      --hover-bg-color: #E2EBFA;\n",
              "      --hover-fill-color: #174EA6;\n",
              "      --disabled-fill-color: #AAA;\n",
              "      --disabled-bg-color: #DDD;\n",
              "  }\n",
              "\n",
              "  [theme=dark] .colab-df-quickchart {\n",
              "      --bg-color: #3B4455;\n",
              "      --fill-color: #D2E3FC;\n",
              "      --hover-bg-color: #434B5C;\n",
              "      --hover-fill-color: #FFFFFF;\n",
              "      --disabled-bg-color: #3B4455;\n",
              "      --disabled-fill-color: #666;\n",
              "  }\n",
              "\n",
              "  .colab-df-quickchart {\n",
              "    background-color: var(--bg-color);\n",
              "    border: none;\n",
              "    border-radius: 50%;\n",
              "    cursor: pointer;\n",
              "    display: none;\n",
              "    fill: var(--fill-color);\n",
              "    height: 32px;\n",
              "    padding: 0;\n",
              "    width: 32px;\n",
              "  }\n",
              "\n",
              "  .colab-df-quickchart:hover {\n",
              "    background-color: var(--hover-bg-color);\n",
              "    box-shadow: 0 1px 2px rgba(60, 64, 67, 0.3), 0 1px 3px 1px rgba(60, 64, 67, 0.15);\n",
              "    fill: var(--button-hover-fill-color);\n",
              "  }\n",
              "\n",
              "  .colab-df-quickchart-complete:disabled,\n",
              "  .colab-df-quickchart-complete:disabled:hover {\n",
              "    background-color: var(--disabled-bg-color);\n",
              "    fill: var(--disabled-fill-color);\n",
              "    box-shadow: none;\n",
              "  }\n",
              "\n",
              "  .colab-df-spinner {\n",
              "    border: 2px solid var(--fill-color);\n",
              "    border-color: transparent;\n",
              "    border-bottom-color: var(--fill-color);\n",
              "    animation:\n",
              "      spin 1s steps(1) infinite;\n",
              "  }\n",
              "\n",
              "  @keyframes spin {\n",
              "    0% {\n",
              "      border-color: transparent;\n",
              "      border-bottom-color: var(--fill-color);\n",
              "      border-left-color: var(--fill-color);\n",
              "    }\n",
              "    20% {\n",
              "      border-color: transparent;\n",
              "      border-left-color: var(--fill-color);\n",
              "      border-top-color: var(--fill-color);\n",
              "    }\n",
              "    30% {\n",
              "      border-color: transparent;\n",
              "      border-left-color: var(--fill-color);\n",
              "      border-top-color: var(--fill-color);\n",
              "      border-right-color: var(--fill-color);\n",
              "    }\n",
              "    40% {\n",
              "      border-color: transparent;\n",
              "      border-right-color: var(--fill-color);\n",
              "      border-top-color: var(--fill-color);\n",
              "    }\n",
              "    60% {\n",
              "      border-color: transparent;\n",
              "      border-right-color: var(--fill-color);\n",
              "    }\n",
              "    80% {\n",
              "      border-color: transparent;\n",
              "      border-right-color: var(--fill-color);\n",
              "      border-bottom-color: var(--fill-color);\n",
              "    }\n",
              "    90% {\n",
              "      border-color: transparent;\n",
              "      border-bottom-color: var(--fill-color);\n",
              "    }\n",
              "  }\n",
              "</style>\n",
              "\n",
              "  <script>\n",
              "    async function quickchart(key) {\n",
              "      const quickchartButtonEl =\n",
              "        document.querySelector('#' + key + ' button');\n",
              "      quickchartButtonEl.disabled = true;  // To prevent multiple clicks.\n",
              "      quickchartButtonEl.classList.add('colab-df-spinner');\n",
              "      try {\n",
              "        const charts = await google.colab.kernel.invokeFunction(\n",
              "            'suggestCharts', [key], {});\n",
              "      } catch (error) {\n",
              "        console.error('Error during call to suggestCharts:', error);\n",
              "      }\n",
              "      quickchartButtonEl.classList.remove('colab-df-spinner');\n",
              "      quickchartButtonEl.classList.add('colab-df-quickchart-complete');\n",
              "    }\n",
              "    (() => {\n",
              "      let quickchartButtonEl =\n",
              "        document.querySelector('#df-413ff9b0-f362-4d9a-8286-fb30620992de button');\n",
              "      quickchartButtonEl.style.display =\n",
              "        google.colab.kernel.accessAllowed ? 'block' : 'none';\n",
              "    })();\n",
              "  </script>\n",
              "</div>\n",
              "\n",
              "    </div>\n",
              "  </div>\n"
            ],
            "application/vnd.google.colaboratory.intrinsic+json": {
              "type": "dataframe",
              "variable_name": "df_encoded",
              "summary": "{\n  \"name\": \"df_encoded\",\n  \"rows\": 216,\n  \"fields\": [\n    {\n      \"column\": \"Name\",\n      \"properties\": {\n        \"dtype\": \"string\",\n        \"num_unique_values\": 216,\n        \"samples\": [\n          \"Stone, Mrs. George Nelson (Martha Evelyn)\",\n          \"Potter, Mrs. Thomas Jr (Lily Alexenia Wilson)\",\n          \"Silvey, Mrs. William Baird (Alice Munger)\"\n        ],\n        \"semantic_type\": \"\",\n        \"description\": \"\"\n      }\n    },\n    {\n      \"column\": \"Pclass\",\n      \"properties\": {\n        \"dtype\": \"number\",\n        \"std\": 0,\n        \"min\": 1,\n        \"max\": 1,\n        \"num_unique_values\": 1,\n        \"samples\": [\n          1\n        ],\n        \"semantic_type\": \"\",\n        \"description\": \"\"\n      }\n    },\n    {\n      \"column\": \"Sex\",\n      \"properties\": {\n        \"dtype\": \"category\",\n        \"num_unique_values\": 2,\n        \"samples\": [\n          \"male\"\n        ],\n        \"semantic_type\": \"\",\n        \"description\": \"\"\n      }\n    },\n    {\n      \"column\": \"Age\",\n      \"properties\": {\n        \"dtype\": \"number\",\n        \"std\": 14.80285589645046,\n        \"min\": 0.92,\n        \"max\": 80.0,\n        \"num_unique_values\": 57,\n        \"samples\": [\n          38.0\n        ],\n        \"semantic_type\": \"\",\n        \"description\": \"\"\n      }\n    },\n    {\n      \"column\": \"Fare\",\n      \"properties\": {\n        \"dtype\": \"number\",\n        \"std\": 78.38037264672884,\n        \"min\": 0.0,\n        \"max\": 512.3292,\n        \"num_unique_values\": 94,\n        \"samples\": [\n          135.6333\n        ],\n        \"semantic_type\": \"\",\n        \"description\": \"\"\n      }\n    },\n    {\n      \"column\": \"Survived\",\n      \"properties\": {\n        \"dtype\": \"number\",\n        \"std\": 0,\n        \"min\": 0,\n        \"max\": 1,\n        \"num_unique_values\": 2,\n        \"samples\": [\n          0\n        ],\n        \"semantic_type\": \"\",\n        \"description\": \"\"\n      }\n    },\n    {\n      \"column\": \"Embarked_C\",\n      \"properties\": {\n        \"dtype\": \"boolean\",\n        \"num_unique_values\": 2,\n        \"samples\": [\n          false\n        ],\n        \"semantic_type\": \"\",\n        \"description\": \"\"\n      }\n    },\n    {\n      \"column\": \"Embarked_Q\",\n      \"properties\": {\n        \"dtype\": \"boolean\",\n        \"num_unique_values\": 2,\n        \"samples\": [\n          true\n        ],\n        \"semantic_type\": \"\",\n        \"description\": \"\"\n      }\n    },\n    {\n      \"column\": \"Embarked_S\",\n      \"properties\": {\n        \"dtype\": \"boolean\",\n        \"num_unique_values\": 2,\n        \"samples\": [\n          true\n        ],\n        \"semantic_type\": \"\",\n        \"description\": \"\"\n      }\n    }\n  ]\n}"
            }
          },
          "metadata": {},
          "execution_count": 11
        }
      ]
    },
    {
      "cell_type": "markdown",
      "source": [
        "### **Problem - 4:**\n",
        "\n",
        "\n",
        "Compare the mean survival rates (’Survived’) for the different groups in the ’Sex’ column. Draw a visual-\n",
        "ization to show how the survival distributions vary by gender."
      ],
      "metadata": {
        "id": "HPjv4NZlU326"
      }
    },
    {
      "cell_type": "code",
      "source": [
        "import seaborn as sns\n",
        "import matplotlib.pyplot as plt\n",
        "\n",
        "df_first_class = df_titanic[['Name', 'Pclass', 'Sex', 'Age', 'Fare', 'Survived']]\n",
        "\n",
        "df_first_class = df_first_class[df_first_class['Pclass'] == 1]\n",
        "\n",
        "survival_by_gender = df_first_class.groupby('Sex')['Survived'].mean()\n",
        "\n",
        "sns.barplot(x=survival_by_gender.index, y=survival_by_gender.values)\n",
        "plt.title('Mean Survival Rates by Gender')\n",
        "plt.xlabel('Gender')\n",
        "plt.ylabel('Mean Survival Rate')\n",
        "plt.show()\n"
      ],
      "metadata": {
        "colab": {
          "base_uri": "https://localhost:8080/",
          "height": 472
        },
        "id": "3Sts9Tv7U9fB",
        "outputId": "5cecb8df-cca4-4137-fbbf-1613f65c9bd9"
      },
      "execution_count": 12,
      "outputs": [
        {
          "output_type": "display_data",
          "data": {
            "text/plain": [
              "<Figure size 640x480 with 1 Axes>"
            ],
            "image/png": "[encoded data removed]"
          },
          "metadata": {}
        }
      ]
    },
    {
      "cell_type": "markdown",
      "source": [
        "### **Problem - 5:**\n",
        "\n",
        "Draw a visualization that breaks your visualization from Exercise 3 down by the port of embarkation (’Em-\n",
        "barked’). In this instance, compare the ports ’C’ (Cherbourg), ’Q’ (Queenstown), and ’S’ (Southampton)."
      ],
      "metadata": {
        "id": "-Sqas2wsVIwo"
      }
    },
    {
      "cell_type": "code",
      "source": [
        "df_first_class = df_titanic[['Name', 'Pclass', 'Sex', 'Age', 'Fare', 'Survived', 'Embarked']]\n",
        "\n",
        "df_first_class = df_first_class[df_first_class['Pclass'] == 1]\n",
        "\n",
        "df_encoded = pd.get_dummies(df_first_class, columns=['Embarked'], prefix='Embarked')\n",
        "\n",
        "survival_by_embarked = df_encoded.groupby('Embarked_S')['Survived'].mean()\n",
        "\n",
        "sns.barplot(x=survival_by_embarked.index, y=survival_by_embarked.values)\n",
        "plt.title('Mean Survival Rates by Port of Embarkation')\n",
        "plt.xlabel('Port of Embarkation')\n",
        "plt.ylabel('Mean Survival Rate')\n",
        "plt.show()\n"
      ],
      "metadata": {
        "colab": {
          "base_uri": "https://localhost:8080/",
          "height": 472
        },
        "id": "wOrYWycZVLHb",
        "outputId": "13ca19b7-335a-40fd-beee-6c91a9423010"
      },
      "execution_count": 13,
      "outputs": [
        {
          "output_type": "display_data",
          "data": {
            "text/plain": [
              "<Figure size 640x480 with 1 Axes>"
            ],
            "image/png": "[encoded data removed]"
          },
          "metadata": {}
        }
      ]
    },
    {
      "cell_type": "markdown",
      "source": [
        "### **Problem - 6{Optional}:**\n",
        "\n",
        "Show how the survival rates (’Survived’) vary by age group and passenger class (’Pclass’). Break up the\n",
        "’Age’ column into five quantiles in your DataFrame, and then compare the means of ’Survived’ by class\n",
        "and age group. Draw a visualization using a any plotting library to represent this graphically."
      ],
      "metadata": {
        "id": "AcKicu6FVR9O"
      }
    },
    {
      "cell_type": "code",
      "source": [
        "df_first_class = df_titanic[['Name', 'Pclass', 'Sex', 'Age', 'Fare', 'Survived']]\n",
        "\n",
        "df_first_class = df_first_class[df_first_class['Pclass'] == 1]\n",
        "\n",
        "df_first_class['Age_Group'] = pd.qcut(df_first_class['Age'], 5)\n",
        "\n",
        "survival_by_age_class = df_first_class.groupby(['Pclass', 'Age_Group'])['Survived'].mean().reset_index()\n",
        "\n",
        "pivoted_data = survival_by_age_class.pivot(index='Pclass', columns='Age_Group', values='Survived')\n",
        "\n",
        "sns.heatmap(pivoted_data, annot=True, cmap='coolwarm')\n",
        "plt.title('Survival Rates by Age Group and Passenger Class')\n",
        "plt.xlabel('Age Group')\n",
        "plt.ylabel('Passenger Class')\n",
        "plt.show()\n"
      ],
      "metadata": {
        "colab": {
          "base_uri": "https://localhost:8080/",
          "height": 707
        },
        "id": "rwoEZ2vvVTeU",
        "outputId": "8ab60e6f-fc18-4c09-f2ff-32e7d014fd7f"
      },
      "execution_count": 14,
      "outputs": [
        {
          "output_type": "stream",
          "name": "stderr",
          "text": [
            "<ipython-input-14-c0a2139fa5d1>:5: SettingWithCopyWarning: \n",
            "A value is trying to be set on a copy of a slice from a DataFrame.\n",
            "Try using .loc[row_indexer,col_indexer] = value instead\n",
            "\n",
            "See the caveats in the documentation: https://pandas.pydata.org/pandas-docs/stable/user_guide/indexing.html#returning-a-view-versus-a-copy\n",
            "  df_first_class['Age_Group'] = pd.qcut(df_first_class['Age'], 5)\n",
            "<ipython-input-14-c0a2139fa5d1>:7: FutureWarning: The default of observed=False is deprecated and will be changed to True in a future version of pandas. Pass observed=False to retain current behavior or observed=True to adopt the future default and silence this warning.\n",
            "  survival_by_age_class = df_first_class.groupby(['Pclass', 'Age_Group'])['Survived'].mean().reset_index()\n"
          ]
        },
        {
          "output_type": "display_data",
          "data": {
            "text/plain": [
              "<Figure size 640x480 with 2 Axes>"
            ],
            "image/png": "[encoded data removed]"
          },
          "metadata": {}
        }
      ]
    }
  ]
}